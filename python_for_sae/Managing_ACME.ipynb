{
 "cells": [
  {
   "cell_type": "markdown",
   "metadata": {
    "canopy_exercise": {
     "cell_type": "question"
    }
   },
   "source": [
    "Managing ACME\n",
    "=============\n",
    "\n",
    "Question 1\n",
    "----------\n",
    "We are now (badly) managing the employees of a new startup called [ACME Corp.](http://en.wikipedia.org/wiki/Acme_Corporation), which has locations in Taos, Phoenix, Santa Fe, and Flagstaff. The 8 employees of this company have the following email addresses (by order of arrival date in the company):\n",
    "<pre>\n",
    "\"Wile.E.Coyote@acme.com\", \n",
    "\"Looney.Tunes@acme.com\", \n",
    "\"Chuck.Jones@acme.com\", \n",
    "\"Road.Runner@acme.com\", \n",
    "\"Michael.Maltese@acme.com\",\n",
    "\"Speedy.Gonzales@acme.com\",\n",
    "\"Calamity.Coyote@acme.com\",\n",
    "\"Bugs.Bunny@texavery.com\"\n",
    "</pre>\n",
    "\n",
    "Copy these 8 emails into a list called `employee_emails`. Also create a list of employee IDs from 0 to 7 (included) without writing each ID manually (let's assume that we will reuse your code once ACME's products finally start to work and sell and the company becomes huge). We will call it `employee_ids`."
   ]
  },
  {
   "cell_type": "code",
   "execution_count": 81,
   "metadata": {
    "canopy_exercise": {
     "cell_type": "solution"
    }
   },
   "outputs": [
    {
     "data": {
      "text/plain": [
       "(['Wile.E.Coyote@acme.com',\n",
       "  'Looney.Tunes@acme.com',\n",
       "  'Chuck.Jones@acme.com',\n",
       "  'Road.Runner@acme.com',\n",
       "  'Michael.Maltese@acme.com',\n",
       "  'Speedy.Gonzales@acme.com',\n",
       "  'Calamity.Coyote@acme.com',\n",
       "  'Bugs.Bunny@texavery.com'],\n",
       " [0, 1, 2, 3, 4, 5, 6, 7])"
      ]
     },
     "execution_count": 81,
     "metadata": {},
     "output_type": "execute_result"
    }
   ],
   "source": [
    "employee_emails = [\"Wile.E.Coyote@acme.com\", \"Looney.Tunes@acme.com\", \"Chuck.Jones@acme.com\", \"Road.Runner@acme.com\", \"Michael.Maltese@acme.com\",\"Speedy.Gonzales@acme.com\", \"Calamity.Coyote@acme.com\",\"Bugs.Bunny@texavery.com\"]\n",
    "employee_ids = list(range(len(employee_emails)))\n",
    "employee_emails, employee_ids"
   ]
  },
  {
   "cell_type": "markdown",
   "metadata": {
    "canopy_exercise": {
     "cell_type": "question"
    }
   },
   "source": [
    "Question 2\n",
    "----------\n",
    "A new employee, with ID 8, is joining the company. His name is \"Acceleratti incredibilis\". Add his email address to the end of the `employee_emails` list. Update the `employee_ids` list."
   ]
  },
  {
   "cell_type": "code",
   "execution_count": 82,
   "metadata": {
    "canopy_exercise": {
     "cell_type": "solution"
    }
   },
   "outputs": [
    {
     "data": {
      "text/plain": [
       "(['Wile.E.Coyote@acme.com',\n",
       "  'Looney.Tunes@acme.com',\n",
       "  'Chuck.Jones@acme.com',\n",
       "  'Road.Runner@acme.com',\n",
       "  'Michael.Maltese@acme.com',\n",
       "  'Speedy.Gonzales@acme.com',\n",
       "  'Calamity.Coyote@acme.com',\n",
       "  'Bugs.Bunny@texavery.com',\n",
       "  'Acceleratti.Incredibilis@acme.com'],\n",
       " [0, 1, 2, 3, 4, 5, 6, 7, 8])"
      ]
     },
     "execution_count": 82,
     "metadata": {},
     "output_type": "execute_result"
    }
   ],
   "source": [
    "employee_emails.append(\"Acceleratti.Incredibilis@acme.com\")\n",
    "employee_ids.append(8)\n",
    "employee_emails, employee_ids"
   ]
  },
  {
   "cell_type": "markdown",
   "metadata": {
    "canopy_exercise": {
     "cell_type": "question"
    }
   },
   "source": [
    "Question 3\n",
    "----------\n",
    "Suprisingly, one of ACME's products, the `Earthquake Pill` works remarkably well. Pull up the emails for the team responsible for them, that is employees with IDs 2, 3, 4 and 5. This can be done using slicing."
   ]
  },
  {
   "cell_type": "code",
   "execution_count": 83,
   "metadata": {
    "canopy_exercise": {
     "cell_type": "solution"
    }
   },
   "outputs": [
    {
     "data": {
      "text/plain": [
       "(['Chuck.Jones@acme.com',\n",
       "  'Road.Runner@acme.com',\n",
       "  'Michael.Maltese@acme.com',\n",
       "  'Speedy.Gonzales@acme.com'],\n",
       " [2, 3, 4, 5])"
      ]
     },
     "execution_count": 83,
     "metadata": {},
     "output_type": "execute_result"
    }
   ],
   "source": [
    "employee_emails[2:6], employee_ids[2:6]"
   ]
  },
  {
   "cell_type": "markdown",
   "metadata": {
    "canopy_exercise": {
     "cell_type": "question"
    }
   },
   "source": [
    "Question 4\n",
    "----------\n",
    "Despite the Earthquake Pills, this year, the poor financial results of the company only allow to pay bonuses to every other employee (starting with employee 0 this would be employees 0, 2, 4, ...). Using slicing, pull up their email addresses to announce the good news to them. (Once we learn about NumPy and SciPy, we will learn to select employees based on their performances rather than arrival dates!)"
   ]
  },
  {
   "cell_type": "code",
   "execution_count": 84,
   "metadata": {
    "canopy_exercise": {
     "cell_type": "solution"
    }
   },
   "outputs": [
    {
     "data": {
      "text/plain": [
       "(['Wile.E.Coyote@acme.com',\n",
       "  'Chuck.Jones@acme.com',\n",
       "  'Michael.Maltese@acme.com',\n",
       "  'Calamity.Coyote@acme.com',\n",
       "  'Acceleratti.Incredibilis@acme.com'],\n",
       " [0, 2, 4, 6, 8])"
      ]
     },
     "execution_count": 84,
     "metadata": {},
     "output_type": "execute_result"
    }
   ],
   "source": [
    "employee_emails[::2], employee_ids[::2]"
   ]
  },
  {
   "cell_type": "markdown",
   "metadata": {
    "canopy_exercise": {
     "cell_type": "question"
    }
   },
   "source": [
    "Question 5\n",
    "----------\n",
    "The following year, the company is doing even worse. Mad not to have had a bonus the year before the Looney Tunes decides to spin off half the company to create a new one with employees with odd IDs, except that Bugs Bunny guy (employee 7), because he doesn't really belong here... Pull up their emails to send them a secret message."
   ]
  },
  {
   "cell_type": "markdown",
   "metadata": {
    "canopy_exercise": {
     "cell_type": "hint"
    }
   },
   "source": [
    "Again slicing could help here since we can extract every other element with it...."
   ]
  },
  {
   "cell_type": "code",
   "execution_count": 85,
   "metadata": {
    "canopy_exercise": {
     "cell_type": "solution"
    }
   },
   "outputs": [
    {
     "data": {
      "text/plain": [
       "(['Looney.Tunes@acme.com', 'Road.Runner@acme.com', 'Speedy.Gonzales@acme.com'],\n",
       " [1, 3, 5])"
      ]
     },
     "execution_count": 85,
     "metadata": {},
     "output_type": "execute_result"
    }
   ],
   "source": [
    "employee_emails[1:7:2], employee_ids[1:7:2]"
   ]
  },
  {
   "cell_type": "markdown",
   "metadata": {
    "canopy_exercise": {
     "cell_type": "question"
    }
   },
   "source": [
    "Question 6\n",
    "----------\n",
    "His communication was intercepted: Looney Tunes is fired. Remove him from the list of employees. Remove his employee ID (1) as well."
   ]
  },
  {
   "cell_type": "code",
   "execution_count": 86,
   "metadata": {},
   "outputs": [
    {
     "data": {
      "text/plain": [
       "(['Wile.E.Coyote@acme.com',\n",
       "  'Chuck.Jones@acme.com',\n",
       "  'Road.Runner@acme.com',\n",
       "  'Michael.Maltese@acme.com',\n",
       "  'Speedy.Gonzales@acme.com',\n",
       "  'Calamity.Coyote@acme.com',\n",
       "  'Bugs.Bunny@texavery.com',\n",
       "  'Acceleratti.Incredibilis@acme.com'],\n",
       " [0, 2, 3, 4, 5, 6, 7, 8])"
      ]
     },
     "execution_count": 86,
     "metadata": {},
     "output_type": "execute_result"
    }
   ],
   "source": [
    "del employee_emails[1]\n",
    "del employee_ids[1]\n",
    "employee_emails, employee_ids"
   ]
  },
  {
   "cell_type": "markdown",
   "metadata": {
    "canopy_exercise": {
     "cell_type": "question"
    }
   },
   "source": [
    "Question 7\n",
    "----------\n",
    "Capture the list of locations of the company in a list (ordered by importance): \"Taos\", \"Phoenix\", \"Santa Fe\", and \"Flagstaff\". Considering the management issues in ACME, it is decided to reverse the order of these locations, and move the headquarters to Flagstaff. Update the list of locations."
   ]
  },
  {
   "cell_type": "code",
   "execution_count": 87,
   "metadata": {
    "canopy_exercise": {
     "cell_type": "solution"
    }
   },
   "outputs": [
    {
     "data": {
      "text/plain": [
       "['Flagstaff', 'Santa Fe', 'Phoenix', 'Taos']"
      ]
     },
     "execution_count": 87,
     "metadata": {},
     "output_type": "execute_result"
    }
   ],
   "source": [
    "locations = [\"Taos\", \"Phoenix\", \"Santa Fe\", \"Flagstaff\"]\n",
    "locations.reverse()\n",
    "locations"
   ]
  },
  {
   "cell_type": "markdown",
   "metadata": {
    "canopy_exercise": {
     "cell_type": "question"
    }
   },
   "source": [
    "Question 8\n",
    "----------\n",
    "The Boss ends up missing the nice skiing in Taos, and decides to reverse the location order again. The challenge here is to reverse the order without using the `reverse` method."
   ]
  },
  {
   "cell_type": "markdown",
   "metadata": {
    "canopy_exercise": {
     "cell_type": "hint"
    }
   },
   "source": [
    "Slicing could help..."
   ]
  },
  {
   "cell_type": "code",
   "execution_count": 88,
   "metadata": {
    "canopy_exercise": {
     "cell_type": "solution"
    }
   },
   "outputs": [
    {
     "data": {
      "text/plain": [
       "['Taos', 'Phoenix', 'Santa Fe', 'Flagstaff']"
      ]
     },
     "execution_count": 88,
     "metadata": {},
     "output_type": "execute_result"
    }
   ],
   "source": [
    "locations = locations[::-1]\n",
    "locations"
   ]
  },
  {
   "cell_type": "code",
   "execution_count": null,
   "metadata": {},
   "outputs": [],
   "source": []
  },
  {
   "cell_type": "code",
   "execution_count": null,
   "metadata": {},
   "outputs": [],
   "source": []
  }
 ],
 "metadata": {
  "description": "",
  "difficulty": "simple",
  "duration": "short",
  "exercise_number": 2,
  "export_allowed": true,
  "flavor": "general",
  "kernelspec": {
   "display_name": "Python 3",
   "language": "python",
   "name": "python3"
  },
  "language_info": {
   "codemirror_mode": {
    "name": "ipython",
    "version": 3
   },
   "file_extension": ".py",
   "mimetype": "text/x-python",
   "name": "python",
   "nbconvert_exporter": "python",
   "pygments_lexer": "ipython3",
   "version": "3.6.12"
  },
  "level": "fluency",
  "module": "PyFund_list",
  "pre_requisites": [
   "PyFund_list",
   "header"
  ],
  "programming_goals": [],
  "python_goals": [
   "list creation",
   "range",
   "slicing"
  ]
 },
 "nbformat": 4,
 "nbformat_minor": 1
}
