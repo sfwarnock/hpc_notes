{
 "cells": [
  {
   "cell_type": "markdown",
   "metadata": {
    "canopy_exercise": {
     "cell_type": "question"
    }
   },
   "source": [
    "Katrina Advisory Exercise\n",
    "=========================\n",
    "\n",
    "Whenever there's a Hurricane spinning out in the Atlantic (or Pacific), the US National Oceanic and Atmospheric Administration ([NOAA](http://www.noaa.gov/)) issues advisories about the storm's strength.  In this example, we will look at one such advisory for the infamous [Hurricane Katrina](http://en.wikipedia.org/wiki/Hurricane_Katrina) that did so much damage to New Orleans in 2005.\n",
    "\n",
    "Imagine you would like to build an application that \"reads\" storm advisories and assigns a danger level without human interaction. There are a lot of tools that could help with this (like [NLTK](http://www.nltk.org/)) with fancy algorithms, but we're going to take a very simple approach of scanning the document for relevant words.\n",
    "\n",
    "Unlike a few of the other string exercises, the text for this example is located in a file on disk.  We haven't gotten to reading and writing files yet, but that is OK.  The following snippet of code opens the file \"katrina_advisory.txt\" (which is located in the same directory as this exercise), and dumps its contents into a string called `text`.  From here on out, you can work with `text` just as if you created the string yourself."
   ]
  },
  {
   "cell_type": "code",
   "execution_count": 2,
   "metadata": {
    "canopy_exercise": {
     "cell_type": "starting code"
    }
   },
   "outputs": [
    {
     "name": "stdout",
     "output_type": "stream",
     "text": [
      "Content of \"katrina_advisory.txt\"\n",
      "---------------------------------------------------\n",
      "\n",
      "URGENT - WEATHER MESSAGE\n",
      "NATIONAL WEATHER SERVICE NEW ORLEANS LA\n",
      "1011 AM CDT SUN AUG 28, 2005\n",
      "\n",
      "...DEVASTATING DAMAGE EXPECTED...\n",
      "\n",
      ".HURRICANE KATRINA...A MOST POWERFUL HURRICANE WITH UNPRECEDENTED\n",
      "STRENGTH...RIVALING THE INTENSITY OF HURRICANE CAMILLE OF 1969.\n",
      "\n",
      "MOST OF THE AREA WILL BE UNINHABITABLE FOR WEEKS...PERHAPS LONGER. AT\n",
      "LEAST ONE HALF OF WELL CONSTRUCTED HOMES WILL HAVE ROOF AND WALL\n",
      "FAILURE. ALL GABLED ROOFS WILL FAIL...LEAVING THOSE HOMES SEVERELY\n",
      "DAMAGED OR DESTROYED.\n",
      "\n",
      "THE MAJORITY OF INDUSTRIAL BUILDINGS WILL BECOME NON FUNCTIONAL.\n",
      "PARTIAL TO COMPLETE WALL AND ROOF FAILURE IS EXPECTED. ALL WOOD\n",
      "FRAMED LOW RISING APARTMENT BUILDINGS WILL BE DESTROYED. CONCRETE\n",
      "BLOCK LOW RISE APARTMENTS WILL SUSTAIN MAJOR DAMAGE...INCLUDING SOME\n",
      "WALL AND ROOF FAILURE.\n",
      "\n",
      "HIGH RISE OFFICE AND APARTMENT BUILDINGS WILL SWAY DANGEROUSLY...A\n",
      "FEW TO THE POINT OF TOTAL COLLAPSE. ALL WINDOWS WILL BLOW OUT.\n",
      "\n",
      "AIRBORNE DEBRIS WILL BE WIDESPREAD...AND MAY INCLUDE HEAVY ITEMS SUCH\n",
      "AS HOUSEHOLD APPLIANCES AND EVEN LIGHT VEHICLES. SPORT UTILITY VEHICLES\n",
      "AND LIGHT TRUCKS WILL BE MOVED. THE BLOWN DEBRIS WILL CREATE\n",
      "ADDITIONAL DESTRUCTION. PERSONS...PETS...AND LIVESTOCK EXPOSED TO THE\n",
      "WINDS WILL FACE CERTAIN DEATH IF STRUCK.\n",
      "\n",
      "POWER OUTAGES WILL LAST FOR WEEKS...AS MOST POWER POLES WILL BE DOWN\n",
      "AND TRANSFORMERS DESTROYED. WATER SHORTAGES WILL MAKE HUMAN SUFFERING\n",
      "INCREDIBLE BY MODERN STANDARDS.\n",
      "\n",
      "THE VAST MAJORITY OF NATIVE TREES WILL BE SNAPPED OR UPROOTED. ONLY\n",
      "THE HEARTIEST WILL REMAIN STANDING...BUT BE TOTALLY DEFOLIATED. FEW\n",
      "CROPS WILL REMAIN. LIVESTOCK LEFT EXPOSED TO THE WINDS WILL BE\n",
      "KILLED.\n",
      "\n",
      "AN INLAND HURRICANE WIND WARNING IS ISSUED WHEN SUSTAINED WINDS NEAR\n",
      "HURRICANE FORCE...OR FREQUENT GUSTS AT OR ABOVE HURRICANE FORCE...ARE\n",
      "CERTAIN WITHIN THE NEXT 12 TO 24 HOURS.\n",
      "\n",
      "ONCE TROPICAL STORM AND HURRICANE FORCE WINDS ONSET...DO NOT VENTURE\n",
      "OUTSIDE!\n",
      "\n"
     ]
    }
   ],
   "source": [
    "with open(\"katrina_advisory.txt\") as f:\n",
    "    text = f.read()\n",
    "print('Content of \"katrina_advisory.txt\"')\n",
    "print('-' * 51)\n",
    "print()\n",
    "print(text)"
   ]
  },
  {
   "cell_type": "markdown",
   "metadata": {
    "canopy_exercise": {
     "cell_type": "question"
    }
   },
   "source": [
    "Question 1\n",
    "----------\n",
    "Text and data processing always starts by some clean up. Format the text by converting it to lower case, remove spaces before and after the content, and replace \".\" with a space. "
   ]
  },
  {
   "cell_type": "code",
   "execution_count": 91,
   "metadata": {
    "canopy_exercise": {
     "cell_type": "solution"
    }
   },
   "outputs": [
    {
     "data": {
      "text/plain": [
       "'urgent - weather message\\nnational weather service new orleans la\\n1011 am cdt sun aug 28, 2005\\n\\n   devastating damage expected   \\n\\n hurricane katrina   a most powerful hurricane with unprecedented\\nstrength   rivaling the intensity of hurricane camille of 1969 \\n\\nmost of the area will be uninhabitable for weeks   perhaps longer  at\\nleast one half of well constructed homes will have roof and wall\\nfailure  all gabled roofs will fail   leaving those homes severely\\ndamaged or destroyed \\n\\nthe majority of industrial buildings will become non functional \\npartial to complete wall and roof failure is expected  all wood\\nframed low rising apartment buildings will be destroyed  concrete\\nblock low rise apartments will sustain major damage   including some\\nwall and roof failure \\n\\nhigh rise office and apartment buildings will sway dangerously   a\\nfew to the point of total collapse  all windows will blow out \\n\\nairborne debris will be widespread   and may include heavy items such\\nas household appliances and even light vehicles  sport utility vehicles\\nand light trucks will be moved  the blown debris will create\\nadditional destruction  persons   pets   and livestock exposed to the\\nwinds will face certain death if struck \\n\\npower outages will last for weeks   as most power poles will be down\\nand transformers destroyed  water shortages will make human suffering\\nincredible by modern standards \\n\\nthe vast majority of native trees will be snapped or uprooted  only\\nthe heartiest will remain standing   but be totally defoliated  few\\ncrops will remain  livestock left exposed to the winds will be\\nkilled \\n\\nan inland hurricane wind warning is issued when sustained winds near\\nhurricane force   or frequent gusts at or above hurricane force   are\\ncertain within the next 12 to 24 hours \\n\\nonce tropical storm and hurricane force winds onset   do not venture\\noutside!'"
      ]
     },
     "execution_count": 91,
     "metadata": {},
     "output_type": "execute_result"
    }
   ],
   "source": [
    "cleanText = text.lower().strip().replace('.', ' ')\n",
    "cleanText"
   ]
  },
  {
   "cell_type": "markdown",
   "metadata": {
    "canopy_exercise": {
     "cell_type": "question"
    }
   },
   "source": [
    "Question 2\n",
    "----------\n",
    "OK. Now for our own fancy algorithm. Let's count the number of alarming terms in total in the processed `text`. For our purposes, we'll consider the following terms as alarming: \"killed\", \"destroyed\", \"death\", \"devastating\". (They all seem fairly alarming to me...)"
   ]
  },
  {
   "cell_type": "code",
   "execution_count": 92,
   "metadata": {
    "canopy_exercise": {
     "cell_type": "solution"
    }
   },
   "outputs": [
    {
     "data": {
      "text/plain": [
       "6"
      ]
     },
     "execution_count": 92,
     "metadata": {},
     "output_type": "execute_result"
    }
   ],
   "source": [
    "totalAlarming = cleanText.count('killed')\n",
    "totalAlarming += cleanText.count('destroyed')\n",
    "totalAlarming += cleanText.count('death')\n",
    "totalAlarming += cleanText.count('devastating')\n",
    "\n",
    "totalAlarming"
   ]
  },
  {
   "cell_type": "markdown",
   "metadata": {
    "canopy_exercise": {
     "cell_type": "question"
    }
   },
   "source": [
    "Question 3\n",
    "----------\n",
    "Let's also track how urgent NOAA thought the message was.  For this, we'll see if they started the message with the word \"URGENT\" (or \"urgent\").  Make a variable called `is_urgent` that is `True` if \"urgent\" is the first word and `False` otherwise.  As a hint, look at the methods available on strings.  At least one of them will be stunningly useful for our purposes..."
   ]
  },
  {
   "cell_type": "code",
   "execution_count": 93,
   "metadata": {
    "canopy_exercise": {
     "cell_type": "solution"
    },
    "scrolled": true
   },
   "outputs": [
    {
     "data": {
      "text/plain": [
       "True"
      ]
     },
     "execution_count": 93,
     "metadata": {},
     "output_type": "execute_result"
    }
   ],
   "source": [
    "is_urgent = cleanText.startswith(is_urgent)\n",
    "is_urgent"
   ]
  },
  {
   "cell_type": "markdown",
   "metadata": {
    "canopy_exercise": {
     "cell_type": "question"
    }
   },
   "source": [
    "Question 4\n",
    "----------\n",
    "Now, let's compute an \"alarming words ratio\" as the number of alarming terms divided by the total number of words.\n",
    "\n",
    "The total number of words can be computed by splitting the string into individual words, then using the command `len` on the resulting list of words.\n",
    "\n",
    "Print the ratio with a precision of 3 decimal digits."
   ]
  },
  {
   "cell_type": "code",
   "execution_count": 97,
   "metadata": {
    "canopy_exercise": {
     "cell_type": "solution"
    }
   },
   "outputs": [
    {
     "name": "stdout",
     "output_type": "stream",
     "text": [
      "   0.021\n"
     ]
    }
   ],
   "source": [
    "getWords = cleanText.split()\n",
    "wordCount = len(getWords)\n",
    "\n",
    "word_ratio = totalAlarming/wordCount\n",
    "print('{:8.3f}'.format(word_ratio))"
   ]
  },
  {
   "cell_type": "code",
   "execution_count": null,
   "metadata": {},
   "outputs": [],
   "source": []
  }
 ],
 "metadata": {
  "difficulty": "intermediate",
  "duration": "average",
  "exercise_number": 3,
  "flavor": "general",
  "kernelspec": {
   "display_name": "Python 3",
   "language": "python",
   "name": "python3"
  },
  "language_info": {
   "codemirror_mode": {
    "name": "ipython",
    "version": 3
   },
   "file_extension": ".py",
   "mimetype": "text/x-python",
   "name": "python",
   "nbconvert_exporter": "python",
   "pygments_lexer": "ipython3",
   "version": "3.6.12"
  },
  "level": "real-life",
  "module": "PyFund_string",
  "pre_requisites": [
   "PyFund_string",
   "header",
   "(PyFund_FileIO)",
   "(PyFund_control)"
  ],
  "programming_goals": [],
  "python_goals": [
   "string methods"
  ]
 },
 "nbformat": 4,
 "nbformat_minor": 1
}
